{
 "metadata": {
  "language_info": {
   "codemirror_mode": {
    "name": "ipython",
    "version": 3
   },
   "file_extension": ".py",
   "mimetype": "text/x-python",
   "name": "python",
   "nbconvert_exporter": "python",
   "pygments_lexer": "ipython3",
   "version": "3.7.6-final"
  },
  "orig_nbformat": 2,
  "kernelspec": {
   "name": "Python 3.7.6 64-bit ('base': conda)",
   "display_name": "Python 3.7.6 64-bit ('base': conda)",
   "metadata": {
    "interpreter": {
     "hash": "4582d230e25b8217e666f0f9ff9e4572247d830a78f80b8cc5849d556084ed3c"
    }
   }
  }
 },
 "nbformat": 4,
 "nbformat_minor": 2,
 "cells": [
  {
   "source": [
    "# Image Transformer\n",
    "1. Image 투명화 \n",
    "2. 투명 처리된 Image 저장\n",
    "3. Image 정보(Category, Boundary)를 csv에 저장"
   ],
   "cell_type": "markdown",
   "metadata": {}
  },
  {
   "cell_type": "code",
   "execution_count": 4,
   "metadata": {},
   "outputs": [
    {
     "output_type": "stream",
     "name": "stdout",
     "text": [
      "마지막 Save Point 33\n"
     ]
    }
   ],
   "source": [
    "import Img_Maker\n",
    "# 이미지 파일 경로 입력 (메모리 최소 800MB 필요)\n",
    "\n",
    "# 1 : 이미지 저장\n",
    "# 0 : 패스\n",
    "# 2 : 종료\n",
    "\n",
    "# JSON File Path 설정\n",
    "FILE_PATH = r'D:\\MODEL_DATA\\AC\\95.json'\n",
    "Img_Maker.check_img(FILE_PATH = FILE_PATH, save_pos = 0)"
   ]
  },
  {
   "source": [
    "# 참고자료\n",
    "https://studyforus.com/innisfree/594134"
   ],
   "cell_type": "markdown",
   "metadata": {}
  },
  {
   "source": [
    "# 남은 작업\n",
    "## 학습 데이터 생성기 (이미지 합치기)\n",
    "1. 매장 이미지(1024x1024)에 투명화한 상품 합치기\n",
    "2. 매장 이미지 별 BOX 정보 COCO 파일 저장"
   ],
   "cell_type": "markdown",
   "metadata": {}
  },
  {
   "source": [
    "from PIL import Image\n",
    "sys.path.append(os.path.dirname(os.path.abspath(os.path.dirname('image_label.ipynb'))))\n",
    "from PACK import FileSearch"
   ],
   "cell_type": "code",
   "metadata": {},
   "execution_count": 6,
   "outputs": []
  },
  {
   "cell_type": "code",
   "execution_count": 7,
   "metadata": {},
   "outputs": [],
   "source": [
    "bg_fl = FileSearch.search('./Emart_Image', '.jpg')"
   ]
  },
  {
   "cell_type": "code",
   "execution_count": 9,
   "metadata": {},
   "outputs": [],
   "source": [
    "for path in bg_fl:\n",
    "    temp_bg = Image.open(path)\n",
    "    x, y = temp_bg.size\n",
    "    if x < 512 or y < 512:\n",
    "        os.remove(path)"
   ]
  },
  {
   "cell_type": "code",
   "execution_count": 1,
   "metadata": {},
   "outputs": [],
   "source": [
    "import Img_Maker\n",
    "FILE_PATH = r'.\\coco_file.csv'\n",
    "\n",
    "# et_a 는 학습용 이미지 파일이름으로 돌릴때마다 바꿔줘야함 (안그러면 중복됨)\n",
    "# coco_file.csv 파일 경로, 학습 이미지 파일 이름, 생성할 파일 개수\n",
    "Img_Maker.mk_TrainData(FILE_PATH, 'et_a', 5)"
   ]
  },
  {
   "cell_type": "code",
   "execution_count": 28,
   "metadata": {},
   "outputs": [],
   "source": [
    "# 정확한 전처리는 학습시킬 때 확인"
   ]
  }
 ]
}