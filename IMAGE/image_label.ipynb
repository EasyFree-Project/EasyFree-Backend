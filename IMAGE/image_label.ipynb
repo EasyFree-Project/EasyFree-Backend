{
 "metadata": {
  "language_info": {
   "codemirror_mode": {
    "name": "ipython",
    "version": 3
   },
   "file_extension": ".py",
   "mimetype": "text/x-python",
   "name": "python",
   "nbconvert_exporter": "python",
   "pygments_lexer": "ipython3",
   "version": "3.6.10-final"
  },
  "orig_nbformat": 2,
  "kernelspec": {
   "name": "Python 3.6.10 64-bit",
   "display_name": "Python 3.6.10 64-bit",
   "metadata": {
    "interpreter": {
     "hash": "88ab7d1f138adb178a7ddf734a0a1dd2d25db2780a6169a21e3b8f8b839a01a9"
    }
   }
  }
 },
 "nbformat": 4,
 "nbformat_minor": 2,
 "cells": [
  {
   "source": [
    "# Image Transformer\n",
    "1. Image 투명화 \n",
    "2. 투명 처리된 Image 저장\n",
    "3. Image 정보(Category, Boundary)를 csv에 저장"
   ],
   "cell_type": "markdown",
   "metadata": {}
  },
  {
   "cell_type": "code",
   "execution_count": 10,
   "metadata": {},
   "outputs": [],
   "source": [
    "import Img_Maker\n",
    "# 이미지 파일 경로 입력 (메모리 최소 800MB 필요)\n",
    "\n",
    "# 1 : 이미지 저장\n",
    "# 0 : 패스\n",
    "# 2 : 종료\n",
    "\n",
    "# JSON File Path 설정\n",
    "FILE_PATH = r'/home/lab10/JJC/EasyFree-Backend/IMAGE/Final_Model/3.json'\n",
    "Img_Maker.check_img(FILE_PATH = FILE_PATH, save_pos = 476)"
   ]
  },
  {
   "cell_type": "code",
   "execution_count": null,
   "metadata": {},
   "outputs": [],
   "source": []
  },
  {
   "cell_type": "code",
   "execution_count": null,
   "metadata": {},
   "outputs": [],
   "source": [
    "# Image to Trans Data"
   ]
  },
  {
   "cell_type": "code",
   "execution_count": 2,
   "metadata": {},
   "outputs": [],
   "source": [
    "import numpy as np\n",
    "from PIL import Image\n",
    "import Img_Maker\n",
    "sys.path.append(os.path.dirname(os.path.abspath(os.path.dirname('image_label.ipynb'))))\n",
    "from PACK import FileSearch"
   ]
  },
  {
   "cell_type": "code",
   "execution_count": 3,
   "metadata": {},
   "outputs": [],
   "source": [
    "def img2trans(FILE_PATH, count):\n",
    "    img = Image.open(FILE_PATH)\n",
    "    img = img.resize((224,224))\n",
    "    png_data, label_map = Img_Maker.image_trans(np.array(img), 200)\n",
    "    label_img = np.asarray(label_map).reshape(224,224,-1)\n",
    "    file_name = FILE_PATH.split('/')[-1].split('_')[0].replace('2','')\n",
    "    Img_Maker.save_img(png_data, './Target_Trans/%s'%(file_name+str(count)))\n",
    "    Img_Maker.save_coco('./Target_Images/coco_target.csv', '%s'%(file_name+str(count)), file_name, 0, Img_Maker.find_boundary(label_img))\n"
   ]
  },
  {
   "cell_type": "code",
   "execution_count": 4,
   "metadata": {},
   "outputs": [],
   "source": [
    "fl = FileSearch.search('/home/lab10/JJC/EasyFree-Backend/IMAGE/Target_Images', 'png')"
   ]
  },
  {
   "cell_type": "code",
   "execution_count": 5,
   "metadata": {},
   "outputs": [],
   "source": [
    "i = 0 \n",
    "for f in fl:\n",
    "    img2trans(f, i)\n",
    "    i+=1"
   ]
  },
  {
   "cell_type": "code",
   "execution_count": 38,
   "metadata": {},
   "outputs": [],
   "source": [
    "# from matplotlib import pyplot as plt\n",
    "# plt.imshow(np.asarray(png_data).reshape((224,224,-1)))\n",
    "\n"
   ]
  },
  {
   "source": [
    "# Image Augmentation"
   ],
   "cell_type": "markdown",
   "metadata": {}
  },
  {
   "cell_type": "code",
   "execution_count": 58,
   "metadata": {},
   "outputs": [],
   "source": [
    "from keras.preprocessing.image import ImageDataGenerator, array_to_img, img_to_array, load_img\n",
    "\n",
    "datagen = ImageDataGenerator(\n",
    "        rotation_range=40,\n",
    "        width_shift_range=0.2,\n",
    "        height_shift_range=0.2,\n",
    "        shear_range=0.2,\n",
    "        zoom_range=0.2,\n",
    "        horizontal_flip=True,\n",
    "        fill_mode='nearest')\n",
    "\n",
    "img = load_img('/home/lab10/JJC/EasyFree-Backend/IMAGE/Trans_Image/Final_Model_lemon_2.png')  # PIL 이미지\n",
    "x = img_to_array(img)  # (3, 150, 150) 크기의 NumPy 배열\n",
    "x = x.reshape((1,) + x.shape)  # (1, 3, 150, 150) 크기의 NumPy 배열\n",
    "\n",
    "# 아래 .flow() 함수는 임의 변환된 이미지를 배치 단위로 생성해서\n",
    "# 지정된 `preview/` 폴더에 저장합니다.\n",
    "i = 0\n",
    "for batch in datagen.flow(x, batch_size=1,\n",
    "                          save_to_dir='Trans_Image', save_prefix='lemon2', save_format='png'):\n",
    "    i += 1\n",
    "    if i > 20:\n",
    "        break  # 이미지 20장을 생성하고 마칩니다"
   ]
  },
  {
   "cell_type": "code",
   "execution_count": null,
   "metadata": {},
   "outputs": [],
   "source": []
  },
  {
   "source": [
    "# 참고자료\n",
    "https://studyforus.com/innisfree/594134"
   ],
   "cell_type": "markdown",
   "metadata": {}
  },
  {
   "cell_type": "code",
   "execution_count": 11,
   "metadata": {},
   "outputs": [],
   "source": [
    "import pandas as pd"
   ]
  },
  {
   "cell_type": "code",
   "execution_count": 13,
   "metadata": {},
   "outputs": [
    {
     "output_type": "execute_result",
     "data": {
      "text/plain": [
       "array([6000095799, 6000095829, 6000095904, 6000096175, 6000096206,\n",
       "       6000096294, 6000096220])"
      ]
     },
     "metadata": {},
     "execution_count": 13
    }
   ],
   "source": [
    "pd.read_csv('/home/lab10/JJC/EasyFree-Backend/IMAGE/coco_file.csv')['category'].unique()"
   ]
  },
  {
   "cell_type": "code",
   "execution_count": null,
   "metadata": {},
   "outputs": [],
   "source": []
  },
  {
   "source": [
    "# 학습 데이터 생성기 (이미지 합치기)\n",
    "1. 매장 이미지(1024x1024)에 투명화한 상품 합치기\n",
    "2. 매장 이미지 별 BOX 정보 COCO 파일 저장"
   ],
   "cell_type": "markdown",
   "metadata": {}
  },
  {
   "source": [
    "from PIL import Image\n",
    "sys.path.append(os.path.dirname(os.path.abspath(os.path.dirname('image_label.ipynb'))))\n",
    "from PACK import FileSearch"
   ],
   "cell_type": "code",
   "metadata": {},
   "execution_count": 6,
   "outputs": []
  },
  {
   "cell_type": "code",
   "execution_count": 7,
   "metadata": {},
   "outputs": [],
   "source": [
    "bg_fl = FileSearch.search('./Emart_Image', '.jpg')"
   ]
  },
  {
   "cell_type": "code",
   "execution_count": 9,
   "metadata": {},
   "outputs": [],
   "source": [
    "for path in bg_fl:\n",
    "    temp_bg = Image.open(path)\n",
    "    x, y = temp_bg.size\n",
    "    if x < 512 or y < 512:\n",
    "        os.remove(path)"
   ]
  },
  {
   "cell_type": "code",
   "execution_count": 1,
   "metadata": {},
   "outputs": [],
   "source": [
    "import Img_Maker\n",
    "FILE_PATH = '/home/lab10/JJC/EasyFree-Backend/IMAGE/Target_Images/coco_target.csv'\n",
    "\n",
    "# et_a 는 학습용 이미지 파일이름으로 돌릴때마다 바꿔줘야함 (안그러면 중복됨)\n",
    "# coco_file.csv 파일 경로, 학습 이미지 파일 이름, 생성할 파일 개수\n",
    "Img_Maker.mk_TrainData(FILE_PATH, 'et_b', 10000)"
   ]
  },
  {
   "cell_type": "code",
   "execution_count": 28,
   "metadata": {},
   "outputs": [],
   "source": [
    "# 정확한 전처리는 학습시킬 때 확인"
   ]
  }
 ]
}