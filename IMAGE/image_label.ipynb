{
 "metadata": {
  "language_info": {
   "codemirror_mode": {
    "name": "ipython",
    "version": 3
   },
   "file_extension": ".py",
   "mimetype": "text/x-python",
   "name": "python",
   "nbconvert_exporter": "python",
   "pygments_lexer": "ipython3",
   "version": "3.7.6-final"
  },
  "orig_nbformat": 2,
  "kernelspec": {
   "name": "Python 3.7.6 64-bit ('base': conda)",
   "display_name": "Python 3.7.6 64-bit ('base': conda)",
   "metadata": {
    "interpreter": {
     "hash": "4582d230e25b8217e666f0f9ff9e4572247d830a78f80b8cc5849d556084ed3c"
    }
   }
  }
 },
 "nbformat": 4,
 "nbformat_minor": 2,
 "cells": [
  {
   "source": [
    "# Image Transformer\n",
    "1. Image 투명화 \n",
    "2. 투명 처리된 Image 저장\n",
    "3. Image 정보(Category, Boundary)를 csv에 저장"
   ],
   "cell_type": "markdown",
   "metadata": {}
  },
  {
   "cell_type": "code",
   "execution_count": 1,
   "metadata": {},
   "outputs": [
    {
     "output_type": "stream",
     "name": "stdout",
     "text": [
      "마지막 Save Point 37\n"
     ]
    }
   ],
   "source": [
    "import Img_Maker\n",
    "# 이미지 파일 경로 입력 (메모리 최소 800MB 필요)\n",
    "\n",
    "# 1 : 이미지 저장\n",
    "# 0 : 패스\n",
    "# 2 : 종료\n",
    "\n",
    "# JSON File Path 설정\n",
    "FILE_PATH = r'D:\\MODEL_DATA\\AA\\4.json'\n",
    "Img_Maker.check_img(FILE_PATH = FILE_PATH, save_pos = 0)"
   ]
  },
  {
   "source": [],
   "cell_type": "markdown",
   "metadata": {}
  },
  {
   "source": [
    "# 참고자료\n",
    "https://studyforus.com/innisfree/594134"
   ],
   "cell_type": "markdown",
   "metadata": {}
  },
  {
   "source": [
    "# 남은 작업\n",
    "## 학습 데이터 생성기\n",
    "1. 매장 이미지(1024x1024)에 투명화한 상품 합치기\n",
    "2. 매장 이미지 별 BOX 정보 COCO 파일 저장"
   ],
   "cell_type": "markdown",
   "metadata": {}
  },
  {
   "source": [
    "import pandas as pd"
   ],
   "cell_type": "code",
   "metadata": {},
   "execution_count": 3,
   "outputs": []
  },
  {
   "cell_type": "code",
   "execution_count": 4,
   "metadata": {},
   "outputs": [
    {
     "output_type": "execute_result",
     "data": {
      "text/plain": [
       "        image_name  category        product    x    y    w    h\n",
       "0  Train_Image/abc   6510158  1000048751091  111  111  119  119"
      ],
      "text/html": "<div>\n<style scoped>\n    .dataframe tbody tr th:only-of-type {\n        vertical-align: middle;\n    }\n\n    .dataframe tbody tr th {\n        vertical-align: top;\n    }\n\n    .dataframe thead th {\n        text-align: right;\n    }\n</style>\n<table border=\"1\" class=\"dataframe\">\n  <thead>\n    <tr style=\"text-align: right;\">\n      <th></th>\n      <th>image_name</th>\n      <th>category</th>\n      <th>product</th>\n      <th>x</th>\n      <th>y</th>\n      <th>w</th>\n      <th>h</th>\n    </tr>\n  </thead>\n  <tbody>\n    <tr>\n      <th>0</th>\n      <td>Train_Image/abc</td>\n      <td>6510158</td>\n      <td>1000048751091</td>\n      <td>111</td>\n      <td>111</td>\n      <td>119</td>\n      <td>119</td>\n    </tr>\n  </tbody>\n</table>\n</div>"
     },
     "metadata": {},
     "execution_count": 4
    }
   ],
   "source": [
    "pd.read_csv(r'C:\\Users\\svsta\\EasyFree\\IMAGE\\coco_file.csv')"
   ]
  },
  {
   "cell_type": "code",
   "execution_count": 2,
   "metadata": {},
   "outputs": [],
   "source": [
    "# 이미지 합치기\n",
    "from PIL import Image"
   ]
  },
  {
   "cell_type": "code",
   "execution_count": 135,
   "metadata": {},
   "outputs": [],
   "source": [
    "background = Image.open(\"emart.png\")\n",
    "item = Image.open('Train_Image/abc.png')"
   ]
  },
  {
   "cell_type": "code",
   "execution_count": 67,
   "metadata": {},
   "outputs": [],
   "source": [
    "import numpy as np"
   ]
  },
  {
   "cell_type": "code",
   "execution_count": null,
   "metadata": {},
   "outputs": [],
   "source": [
    "np.random.randint(background.size[0]) - item.size[0]\n",
    "np.random.randint(background.size[1]) - item.size[1]"
   ]
  },
  {
   "cell_type": "code",
   "execution_count": 160,
   "metadata": {},
   "outputs": [],
   "source": [
    "background.paste(item, (np.random.randint(item.size[0]//2, background.size[0] - item.size[0]) ,np.random.randint(item.size[1]//2, background.size[1] - item.size[1])), item)\n",
    "#.resize((112,112))\n",
    "\n",
    "# Random Position 이지만 겹치지 않아야 함\n",
    "# 박스정보 X,Y,W,H로 위치 미세조정\n",
    "# cocofile에 넣을 값 = 위치 pos에 center x, center y 를 더하면 됨"
   ]
  },
  {
   "cell_type": "code",
   "execution_count": 2,
   "metadata": {},
   "outputs": [
    {
     "output_type": "error",
     "ename": "NameError",
     "evalue": "name 'background' is not defined",
     "traceback": [
      "\u001b[1;31m---------------------------------------------------------------------------\u001b[0m",
      "\u001b[1;31mNameError\u001b[0m                                 Traceback (most recent call last)",
      "\u001b[1;32m<ipython-input-2-42dacb081254>\u001b[0m in \u001b[0;36m<module>\u001b[1;34m\u001b[0m\n\u001b[1;32m----> 1\u001b[1;33m \u001b[0mbackground\u001b[0m\u001b[1;33m\u001b[0m\u001b[1;33m\u001b[0m\u001b[0m\n\u001b[0m",
      "\u001b[1;31mNameError\u001b[0m: name 'background' is not defined"
     ]
    }
   ],
   "source": [
    "background"
   ]
  },
  {
   "cell_type": "code",
   "execution_count": null,
   "metadata": {},
   "outputs": [],
   "source": []
  }
 ]
}