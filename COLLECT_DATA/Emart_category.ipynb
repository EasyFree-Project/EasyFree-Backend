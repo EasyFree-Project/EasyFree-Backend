{
 "cells": [
  {
   "cell_type": "code",
   "execution_count": null,
   "metadata": {},
   "outputs": [],
   "source": [
    "import requests\n",
    "from bs4 import BeautifulSoup\n",
    "import time\n",
    "import pandas as pd\n",
    "import numpy as np\n",
    "from pandas import Series, DataFrame\n",
    "from collections import defaultdict\n",
    "from IPython.display import clear_output"
   ]
  },
  {
   "cell_type": "code",
   "execution_count": null,
   "metadata": {},
   "outputs": [],
   "source": [
    "import pymysql\n",
    "\n",
    "\n",
    "class Python2DB():\n",
    "    def __init__(self):\n",
    "        self.EF_DB = pymysql.connect(host='220.90.200.176',\n",
    "                                port=3306,\n",
    "                                user='multi',\n",
    "                                passwd='multi!)@(',\n",
    "                                db='EasyFree',\n",
    "                                charset='utf8')\n",
    "\n",
    "        self.cursor = self.EF_DB.cursor()\n",
    "\n",
    "    def select(self, table, column):\n",
    "        sql_qr = \"\"\"\n",
    "            SELECT {0} FROM {1}\n",
    "        \"\"\".format(column, table)\n",
    "        self.cursor.execute(sql_qr)\n",
    "        re = self.cursor.fetchall()\n",
    "        print(re)\n",
    "\n",
    "    def insert(self, table, columns, values):\n",
    "        sql_qr2 = \"\"\"\n",
    "            INSERT INTO {0}({1})\n",
    "            VALUES ({2})\n",
    "        \"\"\".format(table, columns, values)\n",
    "        self.cursor.execute(sql_qr2)\n",
    "        self.EF_DB.commit()\n",
    "\n",
    "    def update(self, table, set_content, where_content):\n",
    "        sql_qr3 = \"\"\"\n",
    "            UPDATE {0}\n",
    "            SET {1}\n",
    "            WHERE {2}\n",
    "        \"\"\".format(table, set_content, where_content)\n",
    "        self.cursor.execute(sql_qr3)\n",
    "        self.EF_DB.commit()\n",
    "\n",
    "    def delete(self, table, where_content):\n",
    "        sql_qr4 = \"\"\"\n",
    "            DELETE FROM {0} WHERE {1}\n",
    "        \"\"\".format(table, where_content)\n",
    "        self.cursor.execute(sql_qr4)\n",
    "        self.EF_DB.commit()"
   ]
  },
  {
   "cell_type": "code",
   "execution_count": null,
   "metadata": {},
   "outputs": [],
   "source": [
    "response = requests.get(\"http://emart.ssg.com/\")\n",
    "bs = BeautifulSoup(response.content, \"html.parser\")\n",
    "\n",
    "category = bs.select('li.em_total_mn a')\n",
    "\n",
    "category_ls = []\n",
    "\n",
    "for i in category:\n",
    "    category_name = i.text\n",
    "    category_number = str(i.attrs[\"href\"])[32:42]\n",
    "    category_ls.append((category_number, category_name))\n",
    "    \n",
    "\n",
    "count = 1\n",
    "\n",
    "db_test = Python2DB()\n",
    "\n",
    "category_dict = defaultdict(str)\n",
    "\n",
    "for c_number, c_name in category_ls:\n",
    "    response = requests.get(\"http://emart.ssg.com/category/listCategoryItem.ssg?dispCtgId={}\".format(c_number))\n",
    "    bs = BeautifulSoup(response.content, \"html.parser\")\n",
    "\n",
    "    category2 = bs.select('li.none_child a')\n",
    "    if category2:\n",
    "    \n",
    "        for j in category2:\n",
    "            category_dict[j.text] = j.attrs[\"data-ilparam-value\"]\n",
    "            db_test.insert('Category', 'category_idx,category_name', \"{},'{}'\".format(count, j.text))\n",
    "            count += 1\n",
    "    else:\n",
    "        category_dict[c_name] = c_number\n",
    "        db_test.insert('Category', 'category_idx,category_name', \"{},'{}'\".format(count, c_name))\n",
    "        count += 1\n",
    "        \n",
    "    time.sleep(10)\n",
    "    \n",
    "    clear_output(wait=True)\n",
    "    print('{}% 진행중...'.format(int(count/len(category_ls)*100)))"
   ]
  },
  {
   "cell_type": "code",
   "execution_count": null,
   "metadata": {},
   "outputs": [],
   "source": []
  },
  {
   "cell_type": "code",
   "execution_count": null,
   "metadata": {},
   "outputs": [],
   "source": [
    "col_dict_df = pd.Series(category_dict).to_frame('new_col').reset_index()"
   ]
  },
  {
   "cell_type": "code",
   "execution_count": null,
   "metadata": {},
   "outputs": [],
   "source": [
    "col_dict_df.columns = ['category_name', 'category_number']"
   ]
  },
  {
   "cell_type": "code",
   "execution_count": null,
   "metadata": {},
   "outputs": [],
   "source": [
    "df_emart_category = pd.DataFrame(col_dict_df, columns = ['category_number', 'category_name'])"
   ]
  },
  {
   "cell_type": "code",
   "execution_count": null,
   "metadata": {},
   "outputs": [],
   "source": [
    "df_emart_category"
   ]
  },
  {
   "cell_type": "code",
   "execution_count": null,
   "metadata": {},
   "outputs": [],
   "source": [
    "df_emart_category.to_csv(\"./emart_category.csv\", encoding = \"utf-8\")"
   ]
  }
 ],
 "metadata": {
  "kernelspec": {
   "display_name": "Python 3",
   "language": "python",
   "name": "python3"
  },
  "language_info": {
   "codemirror_mode": {
    "name": "ipython",
    "version": 3
   },
   "file_extension": ".py",
   "mimetype": "text/x-python",
   "name": "python",
   "nbconvert_exporter": "python",
   "pygments_lexer": "ipython3",
   "version": "3.7.6"
  }
 },
 "nbformat": 4,
 "nbformat_minor": 4
}
