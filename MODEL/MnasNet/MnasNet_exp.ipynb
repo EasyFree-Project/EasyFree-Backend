{
 "metadata": {
  "language_info": {
   "codemirror_mode": {
    "name": "ipython",
    "version": 3
   },
   "file_extension": ".py",
   "mimetype": "text/x-python",
   "name": "python",
   "nbconvert_exporter": "python",
   "pygments_lexer": "ipython3",
   "version": "3.7.6-final"
  },
  "orig_nbformat": 2,
  "kernelspec": {
   "name": "Python 3.7.6 64-bit ('base': conda)",
   "display_name": "Python 3.7.6 64-bit ('base': conda)",
   "metadata": {
    "interpreter": {
     "hash": "4582d230e25b8217e666f0f9ff9e4572247d830a78f80b8cc5849d556084ed3c"
    }
   }
  }
 },
 "nbformat": 4,
 "nbformat_minor": 2,
 "cells": [
  {
   "cell_type": "code",
   "execution_count": 2,
   "metadata": {},
   "outputs": [],
   "source": [
    "import tensorflow as tf\n",
    "import MnasNet\n",
    "import numpy as np\n",
    "import pandas as pd\n",
    "# sys.path로 확인\n",
    "sys.path.append(os.path.dirname(os.path.abspath(os.path.dirname(os.path.abspath(os.path.dirname(os.path.abspath(os.path.dirname('MnasNet_exp.ipynb'))))))))\n",
    "from EasyFree.PACK import FileManager"
   ]
  },
  {
   "cell_type": "code",
   "execution_count": 3,
   "metadata": {},
   "outputs": [
    {
     "output_type": "execute_result",
     "data": {
      "text/plain": [
       "['c:\\\\Users\\\\svsta\\\\EasyFree\\\\MODEL\\\\MnasNet',\n",
       " 'c:\\\\Users\\\\svsta\\\\.vscode\\\\extensions\\\\ms-python.python-2020.9.114305\\\\pythonFiles\\\\vscode_datascience_helpers\\\\..\\\\.does-not-exist',\n",
       " 'c:\\\\Users\\\\svsta\\\\.vscode\\\\extensions\\\\ms-python.python-2020.9.114305\\\\pythonFiles',\n",
       " 'c:\\\\Users\\\\svsta\\\\.vscode\\\\extensions\\\\ms-python.python-2020.9.114305\\\\pythonFiles\\\\lib\\\\python',\n",
       " 'C:\\\\Users\\\\svsta\\\\anaconda3\\\\python37.zip',\n",
       " 'C:\\\\Users\\\\svsta\\\\anaconda3\\\\DLLs',\n",
       " 'C:\\\\Users\\\\svsta\\\\anaconda3\\\\lib',\n",
       " 'C:\\\\Users\\\\svsta\\\\anaconda3',\n",
       " '',\n",
       " 'C:\\\\Users\\\\svsta\\\\AppData\\\\Roaming\\\\Python\\\\Python37\\\\site-packages',\n",
       " 'C:\\\\Users\\\\svsta\\\\anaconda3\\\\lib\\\\site-packages',\n",
       " 'C:\\\\Users\\\\svsta\\\\anaconda3\\\\lib\\\\site-packages\\\\win32',\n",
       " 'C:\\\\Users\\\\svsta\\\\anaconda3\\\\lib\\\\site-packages\\\\win32\\\\lib',\n",
       " 'C:\\\\Users\\\\svsta\\\\anaconda3\\\\lib\\\\site-packages\\\\Pythonwin',\n",
       " 'C:\\\\Users\\\\svsta\\\\anaconda3\\\\lib\\\\site-packages\\\\IPython\\\\extensions',\n",
       " 'C:\\\\Users\\\\svsta\\\\.ipython',\n",
       " 'c:\\\\Users\\\\svsta']"
      ]
     },
     "metadata": {},
     "execution_count": 3
    }
   ],
   "source": [
    "sys.path"
   ]
  },
  {
   "source": [
    "예제 데이터"
   ],
   "cell_type": "markdown",
   "metadata": {}
  },
  {
   "cell_type": "code",
   "execution_count": 4,
   "metadata": {},
   "outputs": [],
   "source": [
    "mnist = tf.keras.datasets.mnist\n",
    "# Load Mnist data\n",
    "(x_train, y_train),(x_test, y_test) = mnist.load_data()\n",
    "# Preprocess data\n",
    "x_train, x_test = x_train / 127.5 - 1, x_test / 127.5 - 1\n",
    "x_train = np.expand_dims(x_train, axis=3)\n",
    "x_test = np.expand_dims(x_test, axis=3)"
   ]
  },
  {
   "cell_type": "code",
   "execution_count": 5,
   "metadata": {},
   "outputs": [
    {
     "output_type": "execute_result",
     "data": {
      "text/plain": [
       "(60000, 28, 28, 1)"
      ]
     },
     "metadata": {},
     "execution_count": 5
    }
   ],
   "source": [
    "x_train.shape"
   ]
  },
  {
   "source": [
    "수집 데이터"
   ],
   "cell_type": "markdown",
   "metadata": {}
  },
  {
   "cell_type": "code",
   "execution_count": 47,
   "metadata": {},
   "outputs": [],
   "source": [
    "coco_file = pd.read_csv(r'C:\\Users\\svsta\\EasyFree\\IMAGE\\coco_file.csv')[['image_name','category']]"
   ]
  },
  {
   "cell_type": "code",
   "execution_count": 8,
   "metadata": {},
   "outputs": [
    {
     "output_type": "execute_result",
     "data": {
      "text/plain": [
       "    image_name    category\n",
       "0     AC_95_17  6000096190\n",
       "1     AC_95_18  6000096190\n",
       "2     AC_95_19  6000096190\n",
       "3     AC_95_25  6000096190\n",
       "4     AC_95_26  6000096190\n",
       "..         ...         ...\n",
       "289  AC_99_995  6000096236\n",
       "290  AC_99_996  6000096236\n",
       "291  AC_99_997  6000096236\n",
       "292  AC_99_998  6000096236\n",
       "293  AC_99_999  6000096236\n",
       "\n",
       "[294 rows x 2 columns]"
      ],
      "text/html": "<div>\n<style scoped>\n    .dataframe tbody tr th:only-of-type {\n        vertical-align: middle;\n    }\n\n    .dataframe tbody tr th {\n        vertical-align: top;\n    }\n\n    .dataframe thead th {\n        text-align: right;\n    }\n</style>\n<table border=\"1\" class=\"dataframe\">\n  <thead>\n    <tr style=\"text-align: right;\">\n      <th></th>\n      <th>image_name</th>\n      <th>category</th>\n    </tr>\n  </thead>\n  <tbody>\n    <tr>\n      <th>0</th>\n      <td>AC_95_17</td>\n      <td>6000096190</td>\n    </tr>\n    <tr>\n      <th>1</th>\n      <td>AC_95_18</td>\n      <td>6000096190</td>\n    </tr>\n    <tr>\n      <th>2</th>\n      <td>AC_95_19</td>\n      <td>6000096190</td>\n    </tr>\n    <tr>\n      <th>3</th>\n      <td>AC_95_25</td>\n      <td>6000096190</td>\n    </tr>\n    <tr>\n      <th>4</th>\n      <td>AC_95_26</td>\n      <td>6000096190</td>\n    </tr>\n    <tr>\n      <th>...</th>\n      <td>...</td>\n      <td>...</td>\n    </tr>\n    <tr>\n      <th>289</th>\n      <td>AC_99_995</td>\n      <td>6000096236</td>\n    </tr>\n    <tr>\n      <th>290</th>\n      <td>AC_99_996</td>\n      <td>6000096236</td>\n    </tr>\n    <tr>\n      <th>291</th>\n      <td>AC_99_997</td>\n      <td>6000096236</td>\n    </tr>\n    <tr>\n      <th>292</th>\n      <td>AC_99_998</td>\n      <td>6000096236</td>\n    </tr>\n    <tr>\n      <th>293</th>\n      <td>AC_99_999</td>\n      <td>6000096236</td>\n    </tr>\n  </tbody>\n</table>\n<p>294 rows × 2 columns</p>\n</div>"
     },
     "metadata": {},
     "execution_count": 8
    }
   ],
   "source": [
    "coco_file"
   ]
  },
  {
   "cell_type": "code",
   "execution_count": 9,
   "metadata": {},
   "outputs": [],
   "source": [
    "from PIL import Image"
   ]
  },
  {
   "cell_type": "code",
   "execution_count": 10,
   "metadata": {},
   "outputs": [],
   "source": [
    "image_data = []\n",
    "target_data = []\n",
    "for img_source in FileManager.File_Search(r'C:\\Users\\svsta\\EasyFree\\IMAGE\\Trans_Image','.png'):\n",
    "    target_data.append(coco_file[coco_file['image_name'] == img_source.split('\\\\')[-1].split('.')[0]]['category'])\n",
    "    image_data.append(np.array(Image.open(img_source)))"
   ]
  },
  {
   "cell_type": "code",
   "execution_count": 11,
   "metadata": {},
   "outputs": [],
   "source": [
    "target_data = list(map(lambda i : i.values[0], target_data))"
   ]
  },
  {
   "cell_type": "code",
   "execution_count": 12,
   "metadata": {},
   "outputs": [],
   "source": [
    "target_dict = {}\n",
    "dict_number = 0\n",
    "for i in list(set(target_data)):\n",
    "    target_dict[i] = dict_number\n",
    "    dict_number+=1"
   ]
  },
  {
   "cell_type": "code",
   "execution_count": 46,
   "metadata": {},
   "outputs": [
    {
     "output_type": "execute_result",
     "data": {
      "text/plain": [
       "{6000096160: 0,\n",
       " 6000096009: 1,\n",
       " 6000096010: 2,\n",
       " 6000096234: 3,\n",
       " 6000096235: 4,\n",
       " 6000096236: 5,\n",
       " 6000096174: 6,\n",
       " 6000096175: 7,\n",
       " 6000096237: 8,\n",
       " 6000095797: 9,\n",
       " 6000096222: 10,\n",
       " 6000096191: 11,\n",
       " 6000096219: 12,\n",
       " 6000096220: 13,\n",
       " 6000096189: 14,\n",
       " 6000096190: 15,\n",
       " 6000096159: 16}"
      ]
     },
     "metadata": {},
     "execution_count": 46
    }
   ],
   "source": [
    "target_dict"
   ]
  },
  {
   "cell_type": "code",
   "execution_count": 13,
   "metadata": {},
   "outputs": [],
   "source": [
    "target_data = list(map(lambda i : target_dict[i], target_data))"
   ]
  },
  {
   "cell_type": "code",
   "execution_count": 14,
   "metadata": {},
   "outputs": [],
   "source": [
    "image_data = list(map(lambda i : i[:,:,0:3], image_data))"
   ]
  },
  {
   "cell_type": "code",
   "execution_count": 15,
   "metadata": {},
   "outputs": [],
   "source": [
    "image_data = np.asarray(image_data)"
   ]
  },
  {
   "cell_type": "code",
   "execution_count": 16,
   "metadata": {},
   "outputs": [],
   "source": [
    "target_data = np.asarray(target_data)"
   ]
  },
  {
   "cell_type": "code",
   "execution_count": 17,
   "metadata": {},
   "outputs": [],
   "source": [
    "from sklearn.model_selection import train_test_split\n",
    "X_train, X_test, y_train, y_test = train_test_split(image_data, target_data)"
   ]
  },
  {
   "cell_type": "code",
   "execution_count": 18,
   "metadata": {},
   "outputs": [],
   "source": [
    "X_train, X_test = X_train / 127.5 - 1, X_test / 127.5 - 1"
   ]
  },
  {
   "cell_type": "code",
   "execution_count": 20,
   "metadata": {
    "tags": [
     "outputPrepend"
    ]
   },
   "outputs": [
    {
     "output_type": "stream",
     "name": "stdout",
     "text": [
      "                   \n__________________________________________________________________________________________________\nbatch_normalization_19 (BatchNo (None, 28, 28, 120)  480         depthwise_conv2d_6[0][0]         \n__________________________________________________________________________________________________\nre_lu_14 (ReLU)                 (None, 28, 28, 120)  0           batch_normalization_19[0][0]     \n__________________________________________________________________________________________________\nconv2d_13 (Conv2D)              (None, 28, 28, 40)   4800        re_lu_14[0][0]                   \n__________________________________________________________________________________________________\nbatch_normalization_20 (BatchNo (None, 28, 28, 40)   160         conv2d_13[0][0]                  \n__________________________________________________________________________________________________\nadd_3 (Add)                     (None, 28, 28, 40)   0           add_2[0][0]                      \n                                                                 batch_normalization_20[0][0]     \n__________________________________________________________________________________________________\nconv2d_14 (Conv2D)              (None, 28, 28, 240)  9600        add_3[0][0]                      \n__________________________________________________________________________________________________\nbatch_normalization_21 (BatchNo (None, 28, 28, 240)  960         conv2d_14[0][0]                  \n__________________________________________________________________________________________________\nre_lu_15 (ReLU)                 (None, 28, 28, 240)  0           batch_normalization_21[0][0]     \n__________________________________________________________________________________________________\ndepthwise_conv2d_7 (DepthwiseCo (None, 14, 14, 240)  6000        re_lu_15[0][0]                   \n__________________________________________________________________________________________________\nbatch_normalization_22 (BatchNo (None, 14, 14, 240)  960         depthwise_conv2d_7[0][0]         \n__________________________________________________________________________________________________\nre_lu_16 (ReLU)                 (None, 14, 14, 240)  0           batch_normalization_22[0][0]     \n__________________________________________________________________________________________________\nconv2d_15 (Conv2D)              (None, 14, 14, 80)   19200       re_lu_16[0][0]                   \n__________________________________________________________________________________________________\nbatch_normalization_23 (BatchNo (None, 14, 14, 80)   320         conv2d_15[0][0]                  \n__________________________________________________________________________________________________\nconv2d_16 (Conv2D)              (None, 14, 14, 480)  38400       batch_normalization_23[0][0]     \n__________________________________________________________________________________________________\nbatch_normalization_24 (BatchNo (None, 14, 14, 480)  1920        conv2d_16[0][0]                  \n__________________________________________________________________________________________________\nre_lu_17 (ReLU)                 (None, 14, 14, 480)  0           batch_normalization_24[0][0]     \n__________________________________________________________________________________________________\ndepthwise_conv2d_8 (DepthwiseCo (None, 14, 14, 480)  12000       re_lu_17[0][0]                   \n__________________________________________________________________________________________________\nbatch_normalization_25 (BatchNo (None, 14, 14, 480)  1920        depthwise_conv2d_8[0][0]         \n__________________________________________________________________________________________________\nre_lu_18 (ReLU)                 (None, 14, 14, 480)  0           batch_normalization_25[0][0]     \n__________________________________________________________________________________________________\nconv2d_17 (Conv2D)              (None, 14, 14, 80)   38400       re_lu_18[0][0]                   \n__________________________________________________________________________________________________\nbatch_normalization_26 (BatchNo (None, 14, 14, 80)   320         conv2d_17[0][0]                  \n__________________________________________________________________________________________________\nadd_4 (Add)                     (None, 14, 14, 80)   0           batch_normalization_23[0][0]     \n                                                                 batch_normalization_26[0][0]     \n__________________________________________________________________________________________________\nconv2d_18 (Conv2D)              (None, 14, 14, 480)  38400       add_4[0][0]                      \n__________________________________________________________________________________________________\nbatch_normalization_27 (BatchNo (None, 14, 14, 480)  1920        conv2d_18[0][0]                  \n__________________________________________________________________________________________________\nre_lu_19 (ReLU)                 (None, 14, 14, 480)  0           batch_normalization_27[0][0]     \n__________________________________________________________________________________________________\ndepthwise_conv2d_9 (DepthwiseCo (None, 14, 14, 480)  12000       re_lu_19[0][0]                   \n__________________________________________________________________________________________________\nbatch_normalization_28 (BatchNo (None, 14, 14, 480)  1920        depthwise_conv2d_9[0][0]         \n__________________________________________________________________________________________________\nre_lu_20 (ReLU)                 (None, 14, 14, 480)  0           batch_normalization_28[0][0]     \n__________________________________________________________________________________________________\nconv2d_19 (Conv2D)              (None, 14, 14, 80)   38400       re_lu_20[0][0]                   \n__________________________________________________________________________________________________\nbatch_normalization_29 (BatchNo (None, 14, 14, 80)   320         conv2d_19[0][0]                  \n__________________________________________________________________________________________________\nadd_5 (Add)                     (None, 14, 14, 80)   0           add_4[0][0]                      \n                                                                 batch_normalization_29[0][0]     \n__________________________________________________________________________________________________\nconv2d_20 (Conv2D)              (None, 14, 14, 480)  38400       add_5[0][0]                      \n__________________________________________________________________________________________________\nbatch_normalization_30 (BatchNo (None, 14, 14, 480)  1920        conv2d_20[0][0]                  \n__________________________________________________________________________________________________\nre_lu_21 (ReLU)                 (None, 14, 14, 480)  0           batch_normalization_30[0][0]     \n__________________________________________________________________________________________________\ndepthwise_conv2d_10 (DepthwiseC (None, 14, 14, 480)  4320        re_lu_21[0][0]                   \n__________________________________________________________________________________________________\nbatch_normalization_31 (BatchNo (None, 14, 14, 480)  1920        depthwise_conv2d_10[0][0]        \n__________________________________________________________________________________________________\nre_lu_22 (ReLU)                 (None, 14, 14, 480)  0           batch_normalization_31[0][0]     \n__________________________________________________________________________________________________\nconv2d_21 (Conv2D)              (None, 14, 14, 96)   46080       re_lu_22[0][0]                   \n__________________________________________________________________________________________________\nbatch_normalization_32 (BatchNo (None, 14, 14, 96)   384         conv2d_21[0][0]                  \n__________________________________________________________________________________________________\nconv2d_22 (Conv2D)              (None, 14, 14, 576)  55296       batch_normalization_32[0][0]     \n__________________________________________________________________________________________________\nbatch_normalization_33 (BatchNo (None, 14, 14, 576)  2304        conv2d_22[0][0]                  \n__________________________________________________________________________________________________\nre_lu_23 (ReLU)                 (None, 14, 14, 576)  0           batch_normalization_33[0][0]     \n__________________________________________________________________________________________________\ndepthwise_conv2d_11 (DepthwiseC (None, 14, 14, 576)  5184        re_lu_23[0][0]                   \n__________________________________________________________________________________________________\nbatch_normalization_34 (BatchNo (None, 14, 14, 576)  2304        depthwise_conv2d_11[0][0]        \n__________________________________________________________________________________________________\nre_lu_24 (ReLU)                 (None, 14, 14, 576)  0           batch_normalization_34[0][0]     \n__________________________________________________________________________________________________\nconv2d_23 (Conv2D)              (None, 14, 14, 96)   55296       re_lu_24[0][0]                   \n__________________________________________________________________________________________________\nbatch_normalization_35 (BatchNo (None, 14, 14, 96)   384         conv2d_23[0][0]                  \n__________________________________________________________________________________________________\nadd_6 (Add)                     (None, 14, 14, 96)   0           batch_normalization_32[0][0]     \n                                                                 batch_normalization_35[0][0]     \n__________________________________________________________________________________________________\nconv2d_24 (Conv2D)              (None, 14, 14, 576)  55296       add_6[0][0]                      \n__________________________________________________________________________________________________\nbatch_normalization_36 (BatchNo (None, 14, 14, 576)  2304        conv2d_24[0][0]                  \n__________________________________________________________________________________________________\nre_lu_25 (ReLU)                 (None, 14, 14, 576)  0           batch_normalization_36[0][0]     \n__________________________________________________________________________________________________\ndepthwise_conv2d_12 (DepthwiseC (None, 7, 7, 576)    14400       re_lu_25[0][0]                   \n__________________________________________________________________________________________________\nbatch_normalization_37 (BatchNo (None, 7, 7, 576)    2304        depthwise_conv2d_12[0][0]        \n__________________________________________________________________________________________________\nre_lu_26 (ReLU)                 (None, 7, 7, 576)    0           batch_normalization_37[0][0]     \n__________________________________________________________________________________________________\nconv2d_25 (Conv2D)              (None, 7, 7, 192)    110592      re_lu_26[0][0]                   \n__________________________________________________________________________________________________\nbatch_normalization_38 (BatchNo (None, 7, 7, 192)    768         conv2d_25[0][0]                  \n__________________________________________________________________________________________________\nconv2d_26 (Conv2D)              (None, 7, 7, 1152)   221184      batch_normalization_38[0][0]     \n__________________________________________________________________________________________________\nbatch_normalization_39 (BatchNo (None, 7, 7, 1152)   4608        conv2d_26[0][0]                  \n__________________________________________________________________________________________________\nre_lu_27 (ReLU)                 (None, 7, 7, 1152)   0           batch_normalization_39[0][0]     \n__________________________________________________________________________________________________\ndepthwise_conv2d_13 (DepthwiseC (None, 7, 7, 1152)   28800       re_lu_27[0][0]                   \n__________________________________________________________________________________________________\nbatch_normalization_40 (BatchNo (None, 7, 7, 1152)   4608        depthwise_conv2d_13[0][0]        \n__________________________________________________________________________________________________\nre_lu_28 (ReLU)                 (None, 7, 7, 1152)   0           batch_normalization_40[0][0]     \n__________________________________________________________________________________________________\nconv2d_27 (Conv2D)              (None, 7, 7, 192)    221184      re_lu_28[0][0]                   \n__________________________________________________________________________________________________\nbatch_normalization_41 (BatchNo (None, 7, 7, 192)    768         conv2d_27[0][0]                  \n__________________________________________________________________________________________________\nadd_7 (Add)                     (None, 7, 7, 192)    0           batch_normalization_38[0][0]     \n                                                                 batch_normalization_41[0][0]     \n__________________________________________________________________________________________________\nconv2d_28 (Conv2D)              (None, 7, 7, 1152)   221184      add_7[0][0]                      \n__________________________________________________________________________________________________\nbatch_normalization_42 (BatchNo (None, 7, 7, 1152)   4608        conv2d_28[0][0]                  \n__________________________________________________________________________________________________\nre_lu_29 (ReLU)                 (None, 7, 7, 1152)   0           batch_normalization_42[0][0]     \n__________________________________________________________________________________________________\ndepthwise_conv2d_14 (DepthwiseC (None, 7, 7, 1152)   28800       re_lu_29[0][0]                   \n__________________________________________________________________________________________________\nbatch_normalization_43 (BatchNo (None, 7, 7, 1152)   4608        depthwise_conv2d_14[0][0]        \n__________________________________________________________________________________________________\nre_lu_30 (ReLU)                 (None, 7, 7, 1152)   0           batch_normalization_43[0][0]     \n__________________________________________________________________________________________________\nconv2d_29 (Conv2D)              (None, 7, 7, 192)    221184      re_lu_30[0][0]                   \n__________________________________________________________________________________________________\nbatch_normalization_44 (BatchNo (None, 7, 7, 192)    768         conv2d_29[0][0]                  \n__________________________________________________________________________________________________\nadd_8 (Add)                     (None, 7, 7, 192)    0           add_7[0][0]                      \n                                                                 batch_normalization_44[0][0]     \n__________________________________________________________________________________________________\nconv2d_30 (Conv2D)              (None, 7, 7, 1152)   221184      add_8[0][0]                      \n__________________________________________________________________________________________________\nbatch_normalization_45 (BatchNo (None, 7, 7, 1152)   4608        conv2d_30[0][0]                  \n__________________________________________________________________________________________________\nre_lu_31 (ReLU)                 (None, 7, 7, 1152)   0           batch_normalization_45[0][0]     \n__________________________________________________________________________________________________\ndepthwise_conv2d_15 (DepthwiseC (None, 7, 7, 1152)   28800       re_lu_31[0][0]                   \n__________________________________________________________________________________________________\nbatch_normalization_46 (BatchNo (None, 7, 7, 1152)   4608        depthwise_conv2d_15[0][0]        \n__________________________________________________________________________________________________\nre_lu_32 (ReLU)                 (None, 7, 7, 1152)   0           batch_normalization_46[0][0]     \n__________________________________________________________________________________________________\nconv2d_31 (Conv2D)              (None, 7, 7, 192)    221184      re_lu_32[0][0]                   \n__________________________________________________________________________________________________\nbatch_normalization_47 (BatchNo (None, 7, 7, 192)    768         conv2d_31[0][0]                  \n__________________________________________________________________________________________________\nadd_9 (Add)                     (None, 7, 7, 192)    0           add_8[0][0]                      \n                                                                 batch_normalization_47[0][0]     \n__________________________________________________________________________________________________\nconv2d_32 (Conv2D)              (None, 7, 7, 1152)   221184      add_9[0][0]                      \n__________________________________________________________________________________________________\nbatch_normalization_48 (BatchNo (None, 7, 7, 1152)   4608        conv2d_32[0][0]                  \n__________________________________________________________________________________________________\nre_lu_33 (ReLU)                 (None, 7, 7, 1152)   0           batch_normalization_48[0][0]     \n__________________________________________________________________________________________________\ndepthwise_conv2d_16 (DepthwiseC (None, 7, 7, 1152)   10368       re_lu_33[0][0]                   \n__________________________________________________________________________________________________\nbatch_normalization_49 (BatchNo (None, 7, 7, 1152)   4608        depthwise_conv2d_16[0][0]        \n__________________________________________________________________________________________________\nre_lu_34 (ReLU)                 (None, 7, 7, 1152)   0           batch_normalization_49[0][0]     \n__________________________________________________________________________________________________\nconv2d_33 (Conv2D)              (None, 7, 7, 320)    368640      re_lu_34[0][0]                   \n__________________________________________________________________________________________________\nbatch_normalization_50 (BatchNo (None, 7, 7, 320)    1280        conv2d_33[0][0]                  \n__________________________________________________________________________________________________\nconv2d_34 (Conv2D)              (None, 7, 7, 1152)   368640      batch_normalization_50[0][0]     \n__________________________________________________________________________________________________\nbatch_normalization_51 (BatchNo (None, 7, 7, 1152)   4608        conv2d_34[0][0]                  \n__________________________________________________________________________________________________\nre_lu_35 (ReLU)                 (None, 7, 7, 1152)   0           batch_normalization_51[0][0]     \n__________________________________________________________________________________________________\nglobal_average_pooling2d (Globa (None, 1152)         0           re_lu_35[0][0]                   \n__________________________________________________________________________________________________\ndense (Dense)                   (None, 1000)         1153000     global_average_pooling2d[0][0]   \n==================================================================================================\nTotal params: 4,251,760\nTrainable params: 4,214,096\nNon-trainable params: 37,664\n__________________________________________________________________________________________________\n"
     ]
    }
   ],
   "source": [
    "# Load model\n",
    "model = MnasNet.MnasNet(input_shape=X_train[0].shape)\n",
    "model.compile(optimizer='adam',\n",
    "              loss='sparse_categorical_crossentropy',\n",
    "              metrics=['accuracy'])\n",
    "model.summary()"
   ]
  },
  {
   "cell_type": "code",
   "execution_count": 22,
   "metadata": {},
   "outputs": [
    {
     "output_type": "stream",
     "name": "stdout",
     "text": [
      "Epoch 1/20\n",
      " 2/14 [===>..........................] - ETA: 1s - loss: 8.4230 - accuracy: 0.0625    WARNING:tensorflow:Callbacks method `on_train_batch_end` is slow compared to the batch time (batch time: 0.0688s vs `on_train_batch_end` time: 0.1875s). Check your callbacks.\n",
      "14/14 [==============================] - 5s 326ms/step - loss: 5.4852 - accuracy: 0.1909\n",
      "Epoch 2/20\n",
      "14/14 [==============================] - 3s 243ms/step - loss: 3.7843 - accuracy: 0.3591\n",
      "Epoch 3/20\n",
      "14/14 [==============================] - 3s 242ms/step - loss: 3.6831 - accuracy: 0.3727\n",
      "Epoch 4/20\n",
      "14/14 [==============================] - 3s 246ms/step - loss: 3.2838 - accuracy: 0.4318\n",
      "Epoch 5/20\n",
      "14/14 [==============================] - 3s 245ms/step - loss: 3.0025 - accuracy: 0.6000\n",
      "Epoch 6/20\n",
      "14/14 [==============================] - 3s 244ms/step - loss: 2.9357 - accuracy: 0.5909\n",
      "Epoch 7/20\n",
      "14/14 [==============================] - 3s 244ms/step - loss: 3.0809 - accuracy: 0.5682\n",
      "Epoch 8/20\n",
      "14/14 [==============================] - 3s 244ms/step - loss: 2.7972 - accuracy: 0.6045\n",
      "Epoch 9/20\n",
      "14/14 [==============================] - 3s 243ms/step - loss: 2.8016 - accuracy: 0.5727\n",
      "Epoch 10/20\n",
      "14/14 [==============================] - 3s 245ms/step - loss: 2.5555 - accuracy: 0.6545\n",
      "Epoch 11/20\n",
      "14/14 [==============================] - 3s 243ms/step - loss: 2.6698 - accuracy: 0.6727\n",
      "Epoch 12/20\n",
      "14/14 [==============================] - 3s 243ms/step - loss: 2.2982 - accuracy: 0.8000\n",
      "Epoch 13/20\n",
      "14/14 [==============================] - 3s 244ms/step - loss: 2.4036 - accuracy: 0.7045\n",
      "Epoch 14/20\n",
      "14/14 [==============================] - 3s 244ms/step - loss: 2.3522 - accuracy: 0.7864\n",
      "Epoch 15/20\n",
      "14/14 [==============================] - 3s 244ms/step - loss: 2.2147 - accuracy: 0.7773\n",
      "Epoch 16/20\n",
      "14/14 [==============================] - 3s 245ms/step - loss: 2.0088 - accuracy: 0.8636\n",
      "Epoch 17/20\n",
      "14/14 [==============================] - 3s 246ms/step - loss: 1.9076 - accuracy: 0.8636\n",
      "Epoch 18/20\n",
      "14/14 [==============================] - 3s 244ms/step - loss: 2.0100 - accuracy: 0.8727\n",
      "Epoch 19/20\n",
      "14/14 [==============================] - 3s 245ms/step - loss: 1.9638 - accuracy: 0.8682\n",
      "Epoch 20/20\n",
      "14/14 [==============================] - 3s 242ms/step - loss: 2.1077 - accuracy: 0.7955\n"
     ]
    },
    {
     "output_type": "execute_result",
     "data": {
      "text/plain": [
       "<tensorflow.python.keras.callbacks.History at 0x1cb7def3d48>"
      ]
     },
     "metadata": {},
     "execution_count": 22
    }
   ],
   "source": [
    "# Train it\n",
    "model.fit(X_train, y_train, epochs=20, batch_size=16)"
   ]
  },
  {
   "cell_type": "code",
   "execution_count": 32,
   "metadata": {},
   "outputs": [
    {
     "output_type": "stream",
     "name": "stdout",
     "text": [
      "3/3 [==============================] - 0s 49ms/step - loss: 5.5518 - accuracy: 0.0946\n",
      "Accuracy of: 9.459459781646729%\n"
     ]
    }
   ],
   "source": [
    "# Evaluate it\n",
    "loss, acc = model.evaluate(X_test, y_test)\n",
    "print('Accuracy of: ' + str(acc*100.) + '%')"
   ]
  },
  {
   "cell_type": "code",
   "execution_count": 48,
   "metadata": {},
   "outputs": [],
   "source": [
    "# Image.fromarray(X_test[0].shape)"
   ]
  },
  {
   "cell_type": "code",
   "execution_count": 38,
   "metadata": {},
   "outputs": [],
   "source": [
    "pic = Image.open(r\"C:\\Users\\svsta\\EasyFree\\IMAGE\\Trans_Image\\AC_95_17.png\")"
   ]
  },
  {
   "cell_type": "code",
   "execution_count": 39,
   "metadata": {},
   "outputs": [],
   "source": [
    "pic.putdata(X_test[0].shape)"
   ]
  },
  {
   "cell_type": "code",
   "execution_count": 44,
   "metadata": {},
   "outputs": [
    {
     "output_type": "execute_result",
     "data": {
      "text/plain": [
       "14"
      ]
     },
     "metadata": {},
     "execution_count": 44
    }
   ],
   "source": [
    "model.predict(X_test)[0].argmax()"
   ]
  },
  {
   "cell_type": "code",
   "execution_count": 45,
   "metadata": {},
   "outputs": [
    {
     "output_type": "execute_result",
     "data": {
      "text/plain": [
       "3"
      ]
     },
     "metadata": {},
     "execution_count": 45
    }
   ],
   "source": [
    "y_test[0]"
   ]
  },
  {
   "cell_type": "code",
   "execution_count": 40,
   "metadata": {},
   "outputs": [
    {
     "output_type": "execute_result",
     "data": {
      "text/plain": [
       "<PIL.PngImagePlugin.PngImageFile image mode=RGBA size=224x224 at 0x1CB89BA5AC8>"
      ],
      "image/png": "[encoded data removed]"
     },
     "metadata": {},
     "execution_count": 40
    }
   ],
   "source": [
    "pic"
   ]
  },
  {
   "cell_type": "code",
   "execution_count": null,
   "metadata": {},
   "outputs": [],
   "source": []
  }
 ]
}