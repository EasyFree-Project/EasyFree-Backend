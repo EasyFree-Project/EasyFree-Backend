{
 "cells": [
  {
   "cell_type": "markdown",
   "metadata": {},
   "source": [
    "## **DataBase**"
   ]
  },
  {
   "cell_type": "markdown",
   "metadata": {},
   "source": [
    "### **연결**"
   ]
  },
  {
   "cell_type": "code",
   "execution_count": 1,
   "metadata": {},
   "outputs": [],
   "source": [
    "import pymysql\n",
    "\n",
    "EF_DB = pymysql.connect(host='220.90.200.176',\n",
    "                       port=3306,\n",
    "                       user='multi',\n",
    "                       passwd='multi!)@(',\n",
    "                       db = 'EasyFree',\n",
    "                       charset='utf8')\n",
    "\n",
    "cursor = EF_DB.cursor()"
   ]
  },
  {
   "cell_type": "markdown",
   "metadata": {},
   "source": [
    "### **검색**"
   ]
  },
  {
   "cell_type": "code",
   "execution_count": 2,
   "metadata": {},
   "outputs": [
    {
     "name": "stdout",
     "output_type": "stream",
     "text": [
      "((1, '사과'),)\n"
     ]
    }
   ],
   "source": [
    "sql = \"\"\"\n",
    "    SELECT * FROM Category\n",
    "\"\"\"\n",
    "\n",
    "cursor.execute(sql)\n",
    "re = cursor.fetchall()\n",
    "\n",
    "print(re)"
   ]
  },
  {
   "cell_type": "markdown",
   "metadata": {},
   "source": [
    "### **삽입**"
   ]
  },
  {
   "cell_type": "code",
   "execution_count": 3,
   "metadata": {},
   "outputs": [],
   "source": [
    "sql2 = \"\"\"\n",
    "    INSERT INTO Category(category_idx,category_name)\n",
    "    VALUES (2,'바나나')\n",
    "\"\"\"\n",
    "\n",
    "cursor.execute(sql2)\n",
    "EF_DB.commit()"
   ]
  },
  {
   "cell_type": "code",
   "execution_count": 4,
   "metadata": {},
   "outputs": [
    {
     "name": "stdout",
     "output_type": "stream",
     "text": [
      "((1, '사과'), (2, '바나나'))\n"
     ]
    }
   ],
   "source": [
    "sql = \"\"\"\n",
    "    SELECT * FROM Category\n",
    "\"\"\"\n",
    "\n",
    "cursor.execute(sql)\n",
    "re = cursor.fetchall()\n",
    "\n",
    "print(re)"
   ]
  },
  {
   "cell_type": "markdown",
   "metadata": {},
   "source": [
    "### **수정**"
   ]
  },
  {
   "cell_type": "code",
   "execution_count": 5,
   "metadata": {},
   "outputs": [],
   "source": [
    "sql3 = \"\"\"\n",
    "    UPDATE Category\n",
    "    SET category_name = '키위'\n",
    "    WHERE category_idx = 2\n",
    "\"\"\"\n",
    "\n",
    "cursor.execute(sql3)\n",
    "EF_DB.commit()"
   ]
  },
  {
   "cell_type": "code",
   "execution_count": 6,
   "metadata": {},
   "outputs": [
    {
     "name": "stdout",
     "output_type": "stream",
     "text": [
      "((1, '사과'), (2, '키위'))\n"
     ]
    }
   ],
   "source": [
    "sql = \"\"\"\n",
    "    SELECT * FROM Category\n",
    "\"\"\"\n",
    "\n",
    "cursor.execute(sql)\n",
    "re = cursor.fetchall()\n",
    "\n",
    "print(re)"
   ]
  },
  {
   "cell_type": "markdown",
   "metadata": {},
   "source": [
    "### **삭제**"
   ]
  },
  {
   "cell_type": "code",
   "execution_count": 8,
   "metadata": {},
   "outputs": [],
   "source": [
    "sql4 = \"\"\"\n",
    "    DELETE FROM Category WHERE category_idx = 2\n",
    "\"\"\"\n",
    "\n",
    "cursor.execute(sql4)\n",
    "EF_DB.commit()"
   ]
  },
  {
   "cell_type": "code",
   "execution_count": 9,
   "metadata": {},
   "outputs": [
    {
     "name": "stdout",
     "output_type": "stream",
     "text": [
      "((1, '사과'),)\n"
     ]
    }
   ],
   "source": [
    "sql = \"\"\"\n",
    "    SELECT * FROM Category\n",
    "\"\"\"\n",
    "\n",
    "cursor.execute(sql)\n",
    "re = cursor.fetchall()\n",
    "\n",
    "print(re)"
   ]
  },
  {
   "cell_type": "markdown",
   "metadata": {},
   "source": [
    "### **class화**"
   ]
  },
  {
   "cell_type": "code",
   "execution_count": null,
   "metadata": {},
   "outputs": [],
   "source": [
    "import pymysql\n",
    "\n",
    "\n",
    "class Python2DB():\n",
    "    def __init__(self):\n",
    "        self.EF_DB = pymysql.connect(host='220.90.200.176',\n",
    "                                port=3306,\n",
    "                                user='multi',\n",
    "                                passwd='multi!)@(',\n",
    "                                db='EasyFree',\n",
    "                                charset='utf8')\n",
    "\n",
    "        self.cursor = self.EF_DB.cursor()\n",
    "\n",
    "    def select(self):\n",
    "        sql_qr = \"\"\"\n",
    "            SELECT * FROM Category\n",
    "        \"\"\"\n",
    "        self.cursor.execute(sql_qr)\n",
    "        re = self.cursor.fetchall()\n",
    "        print(re)\n",
    "\n",
    "    def insert(self):\n",
    "        sql_qr2 = \"\"\"\n",
    "            INSERT INTO Category(category_idx,category_name)\n",
    "            VALUES (2,'바나나')\n",
    "        \"\"\"\n",
    "        self.cursor.execute(sql_qr2)\n",
    "        self.EF_DB.commit()\n",
    "\n",
    "    def update(self):\n",
    "        sql_qr3 = \"\"\"\n",
    "            UPDATE Category\n",
    "            SET category_name = '키위'\n",
    "            WHERE category_idx = 2\n",
    "        \"\"\"\n",
    "        self.cursor.execute(sql_qr3)\n",
    "        self.EF_DB.commit()\n",
    "\n",
    "    def delete(self):\n",
    "        sql_qr4 = \"\"\"\n",
    "            DELETE FROM Category WHERE category_idx = 2\n",
    "        \"\"\"\n",
    "        self.cursor.execute(sql_qr4)\n",
    "        self.EF_DB.commit()\n"
   ]
  },
  {
   "cell_type": "code",
   "execution_count": 1,
   "metadata": {},
   "outputs": [],
   "source": [
    "import pymysql\n",
    "\n",
    "\n",
    "class Python2DB():\n",
    "    def __init__(self):\n",
    "        self.EF_DB = pymysql.connect(host='220.90.200.176',\n",
    "                                port=3306,\n",
    "                                user='multi',\n",
    "                                passwd='multi!)@(',\n",
    "                                db='EasyFree',\n",
    "                                charset='utf8')\n",
    "\n",
    "        self.cursor = self.EF_DB.cursor()\n",
    "\n",
    "    def select(self, table, column):\n",
    "        sql_qr = \"\"\"\n",
    "            SELECT {0} FROM {1}\n",
    "        \"\"\".format(column, table)\n",
    "        self.cursor.execute(sql_qr)\n",
    "        re = self.cursor.fetchall()\n",
    "        print(re)\n",
    "\n",
    "    def insert(self, table, columns, values):\n",
    "        sql_qr2 = \"\"\"\n",
    "            INSERT INTO {0}({1})\n",
    "            VALUES ({2})\n",
    "        \"\"\".format(table, columns, values)\n",
    "        self.cursor.execute(sql_qr2)\n",
    "        self.EF_DB.commit()\n",
    "\n",
    "    def update(self, table, set_content, where_content):\n",
    "        sql_qr3 = \"\"\"\n",
    "            UPDATE {0}\n",
    "            SET {1}\n",
    "            WHERE {2}\n",
    "        \"\"\".format(table, set_content, where_content)\n",
    "        self.cursor.execute(sql_qr3)\n",
    "        self.EF_DB.commit()\n",
    "\n",
    "    def delete(self, table, where_content):\n",
    "        sql_qr4 = \"\"\"\n",
    "            DELETE FROM {0} WHERE {1}\n",
    "        \"\"\".format(table, where_content)\n",
    "        self.cursor.execute(sql_qr4)\n",
    "        self.EF_DB.commit()"
   ]
  },
  {
   "cell_type": "code",
   "execution_count": 2,
   "metadata": {},
   "outputs": [],
   "source": [
    "db_test = Python2DB()"
   ]
  },
  {
   "cell_type": "code",
   "execution_count": 3,
   "metadata": {},
   "outputs": [
    {
     "name": "stdout",
     "output_type": "stream",
     "text": [
      "((1, '사과'),)\n"
     ]
    }
   ],
   "source": [
    "db_test.select('Category', '*')"
   ]
  },
  {
   "cell_type": "code",
   "execution_count": 4,
   "metadata": {},
   "outputs": [
    {
     "name": "stdout",
     "output_type": "stream",
     "text": [
      "((1, '사과'), (2, '바나나'))\n"
     ]
    }
   ],
   "source": [
    "db_test.insert('Category', 'category_idx,category_name', \"2,'바나나'\")\n",
    "db_test.select('Category', '*')"
   ]
  },
  {
   "cell_type": "code",
   "execution_count": 5,
   "metadata": {},
   "outputs": [
    {
     "name": "stdout",
     "output_type": "stream",
     "text": [
      "((1, '사과'), (2, '키위'))\n"
     ]
    }
   ],
   "source": [
    "db_test.update('Category', \"category_name = '키위'\", \"category_idx = 2\")\n",
    "db_test.select('Category', '*')"
   ]
  },
  {
   "cell_type": "code",
   "execution_count": 6,
   "metadata": {},
   "outputs": [
    {
     "name": "stdout",
     "output_type": "stream",
     "text": [
      "((1, '사과'),)\n"
     ]
    }
   ],
   "source": [
    "db_test.delete('Category', \"category_idx = 2\")\n",
    "db_test.select('Category', '*')"
   ]
  },
  {
   "cell_type": "code",
   "execution_count": null,
   "metadata": {},
   "outputs": [],
   "source": []
  }
 ],
 "metadata": {
  "kernelspec": {
   "display_name": "Python 3",
   "language": "python",
   "name": "python3"
  },
  "language_info": {
   "codemirror_mode": {
    "name": "ipython",
    "version": 3
   },
   "file_extension": ".py",
   "mimetype": "text/x-python",
   "name": "python",
   "nbconvert_exporter": "python",
   "pygments_lexer": "ipython3",
   "version": "3.6.8"
  }
 },
 "nbformat": 4,
 "nbformat_minor": 4
}
