{
 "metadata": {
  "language_info": {
   "codemirror_mode": {
    "name": "ipython",
    "version": 3
   },
   "file_extension": ".py",
   "mimetype": "text/x-python",
   "name": "python",
   "nbconvert_exporter": "python",
   "pygments_lexer": "ipython3",
   "version": "3.7.6-final"
  },
  "orig_nbformat": 2,
  "kernelspec": {
   "name": "Python 3.7.6 64-bit ('base': conda)",
   "display_name": "Python 3.7.6 64-bit ('base': conda)",
   "metadata": {
    "interpreter": {
     "hash": "4582d230e25b8217e666f0f9ff9e4572247d830a78f80b8cc5849d556084ed3c"
    }
   }
  }
 },
 "nbformat": 4,
 "nbformat_minor": 2,
 "cells": [
  {
   "cell_type": "code",
   "execution_count": null,
   "metadata": {},
   "outputs": [],
   "source": [
    "# 수집해야 될 데이터에는 이미지도 있음 (모델 학습을 위해)\n",
    "# 제품 수집을 위한 메인 URL\n",
    "URL = 'http://emart.ssg.com/disp/category.ssg?dispCtgId=6000095799&page=1'\n",
    "\n",
    "# 카테고리 - 제품\n",
    "# 이미지 학습시 어떻게 활용할 것인지"
   ]
  },
  {
   "cell_type": "code",
   "execution_count": null,
   "metadata": {},
   "outputs": [],
   "source": [
    "/item/itemView.ssg?itemId=1000028412340&siteNo=6001&salestrNo=2034\n",
    "# image i1 i2 i3 순으로 있는듯\n",
    "//item.ssgcdn.com/40/23/41/item/1000028412340_i2_600.jpg"
   ]
  },
  {
   "cell_type": "code",
   "execution_count": null,
   "metadata": {},
   "outputs": [],
   "source": [
    "'div#area_itemlist'\n",
    "'li.cunit_t232 '\n",
    "select_one('a')\n",
    "\n",
    "# 가격\n",
    "'em.ssg_price'\n",
    "\n",
    "'div.cdtl_tbl'\n",
    "'th td'"
   ]
  },
  {
   "cell_type": "code",
   "execution_count": null,
   "metadata": {},
   "outputs": [],
   "source": [
    "# 제목 em.tx_ko"
   ]
  },
  {
   "cell_type": "code",
   "execution_count": 86,
   "metadata": {},
   "outputs": [],
   "source": [
    "import pandas as pd"
   ]
  },
  {
   "cell_type": "code",
   "execution_count": 88,
   "metadata": {},
   "outputs": [
    {
     "output_type": "execute_result",
     "data": {
      "text/plain": "  category_id     product_id  \\\n0        test  1000015571935   \n1        test  1000015571935   \n2        test  1000015571935   \n3        test  1000015571935   \n4        test  1000015571935   \n\n                                           image_vec  \n0  [0.042653811033756005, 0.496668371172763, 0.39...  \n1  [0.37421452330131305, 0.022916234638342, 0.277...  \n2  [0.128096200138759, 0.21454617821030303, 0.166...  \n3  [0.11738259894717601, 0.9077355561439261, 0.93...  \n4  [0.23198457649788, 0.7184102540741071, 0.19633...  ",
      "text/html": "<div>\n<style scoped>\n    .dataframe tbody tr th:only-of-type {\n        vertical-align: middle;\n    }\n\n    .dataframe tbody tr th {\n        vertical-align: top;\n    }\n\n    .dataframe thead th {\n        text-align: right;\n    }\n</style>\n<table border=\"1\" class=\"dataframe\">\n  <thead>\n    <tr style=\"text-align: right;\">\n      <th></th>\n      <th>category_id</th>\n      <th>product_id</th>\n      <th>image_vec</th>\n    </tr>\n  </thead>\n  <tbody>\n    <tr>\n      <th>0</th>\n      <td>test</td>\n      <td>1000015571935</td>\n      <td>[0.042653811033756005, 0.496668371172763, 0.39...</td>\n    </tr>\n    <tr>\n      <th>1</th>\n      <td>test</td>\n      <td>1000015571935</td>\n      <td>[0.37421452330131305, 0.022916234638342, 0.277...</td>\n    </tr>\n    <tr>\n      <th>2</th>\n      <td>test</td>\n      <td>1000015571935</td>\n      <td>[0.128096200138759, 0.21454617821030303, 0.166...</td>\n    </tr>\n    <tr>\n      <th>3</th>\n      <td>test</td>\n      <td>1000015571935</td>\n      <td>[0.11738259894717601, 0.9077355561439261, 0.93...</td>\n    </tr>\n    <tr>\n      <th>4</th>\n      <td>test</td>\n      <td>1000015571935</td>\n      <td>[0.23198457649788, 0.7184102540741071, 0.19633...</td>\n    </tr>\n  </tbody>\n</table>\n</div>"
     },
     "metadata": {},
     "execution_count": 88
    }
   ],
   "source": [
    "pd.read_json(r'C:\\Users\\svsta\\EasyFree\\COLLECT_DATA\\MODEL_DATA\\AA\\1.json')"
   ]
  },
  {
   "cell_type": "code",
   "execution_count": 33,
   "metadata": {},
   "outputs": [],
   "source": [
    "URL = 'http://emart.ssg.com/item/itemView.ssg?itemId=1000015571935&siteNo=6001&salestrNo=2034&click=itemMidArea01'"
   ]
  },
  {
   "cell_type": "code",
   "execution_count": 34,
   "metadata": {},
   "outputs": [],
   "source": [
    "import requests\n",
    "r = requests.get(URL)"
   ]
  },
  {
   "cell_type": "code",
   "execution_count": 35,
   "metadata": {},
   "outputs": [],
   "source": [
    "from bs4 import BeautifulSoup\n",
    "\n",
    "sp = BeautifulSoup(r.text, 'html.parser')"
   ]
  },
  {
   "cell_type": "code",
   "execution_count": 48,
   "metadata": {},
   "outputs": [],
   "source": [
    "content = sp.select('iframe')[1].attrs['src']"
   ]
  },
  {
   "cell_type": "code",
   "execution_count": null,
   "metadata": {},
   "outputs": [],
   "source": []
  },
  {
   "cell_type": "code",
   "execution_count": 53,
   "metadata": {},
   "outputs": [
    {
     "output_type": "execute_result",
     "data": {
      "text/plain": "'/item/iframePItemContentsDesc.ssg?itemId=1000015571935&siteNo=6001'"
     },
     "metadata": {},
     "execution_count": 53
    }
   ],
   "source": [
    "content"
   ]
  },
  {
   "cell_type": "code",
   "execution_count": 54,
   "metadata": {},
   "outputs": [],
   "source": [
    "ifr = requests.get('http://emart.ssg.com/%s'%content)"
   ]
  },
  {
   "cell_type": "code",
   "execution_count": 56,
   "metadata": {},
   "outputs": [],
   "source": [
    "ifsp = BeautifulSoup(ifr.text, 'html.parser')"
   ]
  },
  {
   "cell_type": "code",
   "execution_count": 70,
   "metadata": {},
   "outputs": [
    {
     "output_type": "execute_result",
     "data": {
      "text/plain": "'넉넉하게 즐기는기분 좋은 달달함아이들이 정말 좋아하는 초코칩 쿠키를 넉넉하게 담았습니다. 휴대가 간편한 디자인의 통에 4개씩 쿠키가 소분 포장되어있어 마지막까지 바삭하게 쿠키를 즐길 수 있습니다,개별 포장으로 바삭하게 즐기는 달콤한 간식커다란 통 안 가득 담겨 넉넉한 양의 쿠키초코칩 쿠키 400g진한 초코칩과 바삭한 쿠키가 만나 정말 맛있는 초코칩 쿠키가 탄생했습니다. 한입에 쏙 들어가는 쿠키는 4개씩 개별 포장되어 있어 마지막까지 바삭하게 즐길 수 있습니다. 커다란 통안에 가득 담겨있는 쿠키를 보는 것만으로도 기분이 달달해지는 노브랜드 초코칩 쿠키를 집에서도, 사무실에서도 즐겨보세요.아래 이미지에 마우스를 올리시면 확대됩니다SSG.COM에서 제공하는 모든 이미지 및 콘텐츠는 저작권법에 의거 보호받는 자산으로무단 복제, 배포, 도용 시 법적조치를 받을 수 있음을 알려드립니다.Copyright (C) SSG.COM All rights reserved. All pictures cannot be copied without permission.눅눅해진 과자 바삭하게 만들기1. 각설탕을 과자와 함께 넣고 밀봉해주세요. 각설탕은 습기를 흡수하는 역할로, 과자의 수분을 다시 흡수해 바삭함을 다시 살려줍니다. 2. 과자를 접시를 담은 후 전자레인지에 약 15~20초간 데워 눅눅해진 과자의 수분을 빠져나가게 해주세요. 과자 봉지째 넣고 돌리면 화재 위험이 있으니 꼭 접시에 덜어 돌려주세요.SSG TIPSKEEP & COOK'"
     },
     "metadata": {},
     "execution_count": 70
    }
   ],
   "source": [
    "ifsp.select('div.cdtl_tmpl_cont')[0].text.replace('\\n','').replace('\\t','')#.replace('Copyright (C) SSG.COM All rights reserved. All pictures cannot be copied without permission.','')"
   ]
  },
  {
   "cell_type": "code",
   "execution_count": null,
   "metadata": {},
   "outputs": [],
   "source": []
  },
  {
   "cell_type": "code",
   "execution_count": 31,
   "metadata": {},
   "outputs": [],
   "source": [
    "titles = sp.select('div.cdtl_tbl th')\n",
    "contents = sp.select('div.cdtl_tbl td')\n",
    "\n",
    "images = sp.select('img.zoom_thumb')\n",
    "# [0].attrs['src']"
   ]
  },
  {
   "cell_type": "code",
   "execution_count": 32,
   "metadata": {},
   "outputs": [
    {
     "output_type": "execute_result",
     "data": {
      "text/plain": "'//item.ssgcdn.com/40/23/41/item/1000028412340_i1_84.jpg'"
     },
     "metadata": {},
     "execution_count": 32
    }
   ],
   "source": [
    "images[0].attrs['src']"
   ]
  },
  {
   "cell_type": "code",
   "execution_count": 30,
   "metadata": {},
   "outputs": [],
   "source": [
    "ir = requests.get('http:%s'%images)"
   ]
  },
  {
   "cell_type": "code",
   "execution_count": 84,
   "metadata": {},
   "outputs": [
    {
     "output_type": "execute_result",
     "data": {
      "text/plain": "<td><div class=\"in\">1개/봉</div></td>"
     },
     "metadata": {},
     "execution_count": 84
    }
   ],
   "source": [
    "contents[3]"
   ]
  },
  {
   "cell_type": "code",
   "execution_count": 85,
   "metadata": {},
   "outputs": [
    {
     "output_type": "execute_result",
     "data": {
      "text/plain": "<th scope=\"row\"><div class=\"in\">포장 단위별 용량 (중량), 수량, 크기</div></th>"
     },
     "metadata": {},
     "execution_count": 85
    }
   ],
   "source": [
    "titles[3]"
   ]
  },
  {
   "cell_type": "code",
   "execution_count": 72,
   "metadata": {},
   "outputs": [
    {
     "output_type": "execute_result",
     "data": {
      "text/plain": "<th scope=\"row\"><div class=\"in\">수입자</div></th>"
     },
     "metadata": {},
     "execution_count": 72
    }
   ],
   "source": [
    "titles[0]"
   ]
  },
  {
   "cell_type": "code",
   "execution_count": null,
   "metadata": {},
   "outputs": [],
   "source": []
  },
  {
   "cell_type": "code",
   "execution_count": null,
   "metadata": {},
   "outputs": [],
   "source": [
    "영양성분\n",
    "식품의 유형"
   ]
  },
  {
   "cell_type": "code",
   "execution_count": null,
   "metadata": {},
   "outputs": [],
   "source": []
  },
  {
   "cell_type": "code",
   "execution_count": null,
   "metadata": {},
   "outputs": [],
   "source": [
    "import requests\n",
    "from bs4 import BeautifulSoup\n",
    "import urllib.request \n",
    "from PIL import Image\n",
    "import numpy as np\n",
    "import pandas as pd\n",
    "import io"
   ]
  },
  {
   "cell_type": "code",
   "execution_count": null,
   "metadata": {},
   "outputs": [],
   "source": [
    "imgurl = 'https:' + result.attrs['data-original']\n",
    "image_data = urllib.request.urlopen(imgurl).read() # byte values of the image\n",
    "image = Image.open(io.BytesIO(image_data))\n",
    "image = image.convert('RGB')\n",
    "image = image.resize((image_w, image_h))\n",
    "data = np.asarray(image)      # numpy 배열로 변환\n",
    "X.append(np.array(data).flatten())\n",
    "y.append(clca)"
   ]
  },
  {
   "cell_type": "code",
   "execution_count": 3,
   "metadata": {},
   "outputs": [
    {
     "output_type": "execute_result",
     "data": {
      "text/plain": "  category_idx  product_number     product_name product_price  \\\n0         test   1000015571935  노브랜드 초코칩쿠키 400g         3,480   \n\n                                    product_location capacity_size  nutrient  \\\n0  PT MEGA GLOBAL FOOD INDUSTRY / (주)이마트 / 서울시 성동...          400g  [상세설명참조]   \n\n   avg_review review_count                                    product_content  \n0         4.7       19,656  http://emart.ssg.com/item/iframePItemContentsD...  ",
      "text/html": "<div>\n<style scoped>\n    .dataframe tbody tr th:only-of-type {\n        vertical-align: middle;\n    }\n\n    .dataframe tbody tr th {\n        vertical-align: top;\n    }\n\n    .dataframe thead th {\n        text-align: right;\n    }\n</style>\n<table border=\"1\" class=\"dataframe\">\n  <thead>\n    <tr style=\"text-align: right;\">\n      <th></th>\n      <th>category_idx</th>\n      <th>product_number</th>\n      <th>product_name</th>\n      <th>product_price</th>\n      <th>product_location</th>\n      <th>capacity_size</th>\n      <th>nutrient</th>\n      <th>avg_review</th>\n      <th>review_count</th>\n      <th>product_content</th>\n    </tr>\n  </thead>\n  <tbody>\n    <tr>\n      <th>0</th>\n      <td>test</td>\n      <td>1000015571935</td>\n      <td>노브랜드 초코칩쿠키 400g</td>\n      <td>3,480</td>\n      <td>PT MEGA GLOBAL FOOD INDUSTRY / (주)이마트 / 서울시 성동...</td>\n      <td>400g</td>\n      <td>[상세설명참조]</td>\n      <td>4.7</td>\n      <td>19,656</td>\n      <td>http://emart.ssg.com/item/iframePItemContentsD...</td>\n    </tr>\n  </tbody>\n</table>\n</div>"
     },
     "metadata": {},
     "execution_count": 3
    }
   ],
   "source": [
    "import pandas as pd\n",
    "pd.read_json(r'C:\\Users\\svsta\\EasyFree\\COLLECT_DATA\\EMART_DATA\\AA\\1.json')"
   ]
  },
  {
   "cell_type": "code",
   "execution_count": 12,
   "metadata": {},
   "outputs": [
    {
     "output_type": "execute_result",
     "data": {
      "text/plain": "      카테고리 넘버 카테고리 이름\n0  6000095799      사과",
      "text/html": "<div>\n<style scoped>\n    .dataframe tbody tr th:only-of-type {\n        vertical-align: middle;\n    }\n\n    .dataframe tbody tr th {\n        vertical-align: top;\n    }\n\n    .dataframe thead th {\n        text-align: right;\n    }\n</style>\n<table border=\"1\" class=\"dataframe\">\n  <thead>\n    <tr style=\"text-align: right;\">\n      <th></th>\n      <th>카테고리 넘버</th>\n      <th>카테고리 이름</th>\n    </tr>\n  </thead>\n  <tbody>\n    <tr>\n      <th>0</th>\n      <td>6000095799</td>\n      <td>사과</td>\n    </tr>\n  </tbody>\n</table>\n</div>"
     },
     "metadata": {},
     "execution_count": 12
    }
   ],
   "source": [
    "\n",
    "\n",
    "a = ['카테고리 넘버', '카테고리 이름']\n",
    "b = [6000095799, '사과']\n",
    "pd.DataFrame(b, index=a).T"
   ]
  },
  {
   "cell_type": "code",
   "execution_count": 18,
   "metadata": {},
   "outputs": [
    {
     "output_type": "execute_result",
     "data": {
      "text/plain": "'넉넉하게 즐기는 기분 좋은 달달함 아이들이 정말 좋아하는 초코칩 쿠키를 넉넉하게 담았습니다. 휴대가 간편한 디자인의 통에 4개씩 쿠키가 소분 포장되어있어 마지막까지 바삭하게 쿠키를 즐길 수 있습니다, 개별 포장으로 바삭하게 즐기는 달콤한 간식 커다란 통 안 가득 담겨 넉넉한 양의 쿠키 초코칩 쿠키 400g 진한 초코칩과 바삭한 쿠키가 만나 정말 맛있는 초코칩 쿠키가 탄생했습니다. 한입에 쏙 들어가는 쿠키는 4개씩 개별 포장되어 있어 마지막까지 바삭하게 즐길 수 있습니다. 커다란 통안에 가득 담겨있는 쿠키를 보는 것만으로도 기분이 달달해지는 노브랜드 초코칩 쿠키를 집에서도, 사무실에서도 즐겨보세요. 아래 이미지에 마우스를 올리시면 확대됩니다 눅눅해진 과자 바삭하게 만들기 1. 각설탕을 과자와 함께 넣고 밀봉해주세요. 각설탕은 습기를 흡수하는 역할로, 과자의 수분을 다시 흡수해 바삭함을 다시 살려줍니다. 2. 과자를 접시를 담은 후 전자레인지에 약 15~20초간 데워 눅눅해진 과자의 수분을 빠져나가게 해주세요. 과자 봉지째 넣고 돌리면 화재 위험이 있으니 꼭 접시에 덜어 돌려주세요. SSG TIPS KEEP & COOK'"
     },
     "metadata": {},
     "execution_count": 18
    }
   ],
   "source": [
    "pd.read_json(r'C:\\Users\\svsta\\EasyFree\\COLLECT_DATA\\MODEL_DATA\\AA\\1.json')['data'][0]"
   ]
  },
  {
   "cell_type": "code",
   "execution_count": null,
   "metadata": {},
   "outputs": [],
   "source": []
  }
 ]
}