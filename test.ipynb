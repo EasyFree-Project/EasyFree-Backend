{
 "metadata": {
  "language_info": {
   "codemirror_mode": {
    "name": "ipython",
    "version": 3
   },
   "file_extension": ".py",
   "mimetype": "text/x-python",
   "name": "python",
   "nbconvert_exporter": "python",
   "pygments_lexer": "ipython3",
   "version": "3.7.6-final"
  },
  "orig_nbformat": 2,
  "kernelspec": {
   "name": "Python 3.7.6 64-bit ('base': conda)",
   "display_name": "Python 3.7.6 64-bit ('base': conda)",
   "metadata": {
    "interpreter": {
     "hash": "4582d230e25b8217e666f0f9ff9e4572247d830a78f80b8cc5849d556084ed3c"
    }
   }
  }
 },
 "nbformat": 4,
 "nbformat_minor": 2,
 "cells": [
  {
   "cell_type": "code",
   "execution_count": null,
   "metadata": {},
   "outputs": [],
   "source": [
    "# 수집해야 될 데이터에는 이미지도 있음 (모델 학습을 위해)\n",
    "# 제품 수집을 위한 메인 URL\n",
    "URL = 'http://emart.ssg.com/disp/category.ssg?dispCtgId=6000095799&page=1'\n",
    "\n",
    "# 카테고리 - 제품\n",
    "# 이미지 학습시 어떻게 활용할 것인지"
   ]
  },
  {
   "cell_type": "code",
   "execution_count": null,
   "metadata": {},
   "outputs": [],
   "source": [
    "/item/itemView.ssg?itemId=1000028412340&siteNo=6001&salestrNo=2034\n",
    "# image i1 i2 i3 순으로 있는듯\n",
    "//item.ssgcdn.com/40/23/41/item/1000028412340_i2_600.jpg"
   ]
  },
  {
   "cell_type": "code",
   "execution_count": null,
   "metadata": {},
   "outputs": [],
   "source": [
    "'div#area_itemlist'\n",
    "'li.cunit_t232 '\n",
    "select_one('a')\n",
    "\n",
    "# 가격\n",
    "'em.ssg_price'\n",
    "\n",
    "'div.cdtl_tbl'\n",
    "'th td'"
   ]
  },
  {
   "cell_type": "code",
   "execution_count": null,
   "metadata": {},
   "outputs": [],
   "source": []
  },
  {
   "cell_type": "code",
   "execution_count": 1,
   "metadata": {},
   "outputs": [],
   "source": [
    "URL = 'http://emart.ssg.com/item/itemView.ssg?itemId=1000028412340&siteNo=6001&salestrNo=2034'"
   ]
  },
  {
   "cell_type": "code",
   "execution_count": 2,
   "metadata": {},
   "outputs": [],
   "source": [
    "import requests\n",
    "r = requests.get(URL)"
   ]
  },
  {
   "cell_type": "code",
   "execution_count": 3,
   "metadata": {},
   "outputs": [],
   "source": [
    "from bs4 import BeautifulSoup\n",
    "\n",
    "sp = BeautifulSoup(r.text, 'html.parser')"
   ]
  },
  {
   "cell_type": "code",
   "execution_count": 31,
   "metadata": {},
   "outputs": [],
   "source": [
    "titles = sp.select('div.cdtl_tbl th')\n",
    "contents = sp.select('div.cdtl_tbl td')\n",
    "\n",
    "images = sp.select('img.zoom_thumb')\n",
    "# [0].attrs['src']"
   ]
  },
  {
   "cell_type": "code",
   "execution_count": 32,
   "metadata": {},
   "outputs": [
    {
     "output_type": "execute_result",
     "data": {
      "text/plain": "'//item.ssgcdn.com/40/23/41/item/1000028412340_i1_84.jpg'"
     },
     "metadata": {},
     "execution_count": 32
    }
   ],
   "source": [
    "images[0].attrs['src']"
   ]
  },
  {
   "cell_type": "code",
   "execution_count": 30,
   "metadata": {},
   "outputs": [],
   "source": [
    "ir = requests.get('http:%s'%images)"
   ]
  },
  {
   "cell_type": "code",
   "execution_count": null,
   "metadata": {},
   "outputs": [],
   "source": []
  },
  {
   "cell_type": "code",
   "execution_count": 14,
   "metadata": {},
   "outputs": [
    {
     "output_type": "execute_result",
     "data": {
      "text/plain": "[<th scope=\"row\"><div class=\"in\">수입자</div></th>,\n <th scope=\"row\"><div class=\"in\">제조연월일/유통기한 또는 품질유지기한</div></th>,\n <th scope=\"row\"><div class=\"in\">유전자변형 농수산물 여부</div></th>,\n <th scope=\"row\"><div class=\"in\">포장 단위별 용량 (중량), 수량, 크기</div></th>,\n <th scope=\"row\"><div class=\"in\">생산자</div></th>,\n <th scope=\"row\"><div class=\"in\">지리적 표시제 관련 공인인증 획득여부</div></th>,\n <th scope=\"row\"><div class=\"in\">주원료/함량(원료 원산지)</div></th>,\n <th scope=\"row\"><div class=\"in\">원산지</div></th>,\n <th scope=\"row\"><div class=\"in\">상품 구성</div></th>,\n <th scope=\"row\"><div class=\"in\">보관방법 또는 취급방법</div></th>,\n <th scope=\"row\"><div class=\"in\">소비자 상담 관련 전화번호</div></th>,\n <th scope=\"row\"><div class=\"in\">식품위생법에 따른 수입신고 필함 여부</div></th>,\n <th scope=\"col\">배송유형</th>,\n <th scope=\"col\">내용</th>,\n <th scope=\"col\">배송비</th>,\n <th scope=\"row\">\n <div class=\"in\">\n <span class=\"cdtl_deliv_ico ico_parcel\"></span>\n </div>\n </th>,\n <th class=\"row\">\n <div class=\"in\">\n <span class=\"cdtl_deliv_ico ico_pickup\"></span>\n </div>\n </th>,\n <th class=\"row\">\n <div class=\"in\">\n <span class=\"cdtl_deliv_ico ico_abroad\"></span>\n </div>\n </th>,\n <th scope=\"row\">\n <div class=\"in\">교환/반품 신청기간</div>\n </th>,\n <th class=\"row\">\n <div class=\"in\">교환/반품 회수(배송)비용</div>\n </th>,\n <th class=\"row\">\n <div class=\"in\">교환/반품 불가 안내</div>\n </th>]"
     },
     "metadata": {},
     "execution_count": 14
    }
   ],
   "source": [
    "titles"
   ]
  },
  {
   "cell_type": "code",
   "execution_count": null,
   "metadata": {},
   "outputs": [],
   "source": []
  },
  {
   "cell_type": "code",
   "execution_count": null,
   "metadata": {},
   "outputs": [],
   "source": [
    "영양성분\n",
    "식품의 유형"
   ]
  },
  {
   "cell_type": "code",
   "execution_count": null,
   "metadata": {},
   "outputs": [],
   "source": []
  },
  {
   "cell_type": "code",
   "execution_count": null,
   "metadata": {},
   "outputs": [],
   "source": [
    "import requests\n",
    "from bs4 import BeautifulSoup\n",
    "import urllib.request \n",
    "from PIL import Image\n",
    "import numpy as np\n",
    "import pandas as pd\n",
    "import io"
   ]
  },
  {
   "cell_type": "code",
   "execution_count": null,
   "metadata": {},
   "outputs": [],
   "source": [
    "imgurl = 'https:' + result.attrs['data-original']\n",
    "image_data = urllib.request.urlopen(imgurl).read() # byte values of the image\n",
    "image = Image.open(io.BytesIO(image_data))\n",
    "image = image.convert('RGB')\n",
    "image = image.resize((image_w, image_h))\n",
    "data = np.asarray(image)      # numpy 배열로 변환\n",
    "X.append(np.array(data).flatten())\n",
    "y.append(clca)"
   ]
  },
  {
   "cell_type": "code",
   "execution_count": null,
   "metadata": {},
   "outputs": [],
   "source": []
  },
  {
   "cell_type": "code",
   "execution_count": null,
   "metadata": {},
   "outputs": [],
   "source": []
  }
 ]
}